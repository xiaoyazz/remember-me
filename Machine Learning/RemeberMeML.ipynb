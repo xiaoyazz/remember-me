{
 "cells": [
  {
   "cell_type": "code",
   "execution_count": null,
   "id": "605843d4-c02c-49f0-ba85-364a7f501a47",
   "metadata": {},
   "outputs": [],
   "source": [
    "from sklearn.model_selection import train_test_split\n",
    "from sklearn.preprocessing import LabelEncoder, StandardScaler\n",
    "from sklearn.ensemble import RandomForestClassifier\n",
    "from sklearn.metrics import classification_report, confusion_matrix, accuracy_score\n",
    "\n",
    "file_path = \"RealisticSyntheticCognitiveData.csv\"\n",
    "df = pd.read_csv(file_path)\n",
    "\n",
    "\n",
    "print(df.info())\n",
    "print(df.head())\n",
    "\n",
    "\n",
    "X = df.drop(columns=['participant_id', 'diagnosis'])\n",
    "y = df['diagnosis']\n",
    "\n",
    "le = LabelEncoder()\n",
    "y_encoded = le.fit_transform(y)\n",
    "\n",
    "\n",
    "scaler = StandardScaler()\n",
    "X_scaled = scaler.fit_transform(X)\n",
    "\n",
    "\n",
    "X_train, X_test, y_train, y_test = train_test_split(\n",
    "    X_scaled, y_encoded, test_size=0.2, random_state=42, stratify=y_encoded\n",
    ")\n",
    "\n",
    "\n",
    "clf = RandomForestClassifier(random_state=42)\n",
    "clf.fit(X_train, y_train)\n",
    "\n",
    "\n",
    "y_pred = clf.predict(X_test)\n",
    "\n",
    "\n",
    "print(\"Confusion Matrix:\")\n",
    "print(confusion_matrix(y_test, y_pred))\n",
    "print(\"\\nClassification Report:\")\n",
    "print(classification_report(y_test, y_pred))\n",
    "print(\"Accuracy:\", accuracy_score(y_test, y_pred))\n"
   ]
  },
  {
   "cell_type": "code",
   "execution_count": null,
   "id": "a031dd73-a217-418e-a69b-d47a31386e45",
   "metadata": {},
   "outputs": [
    {
     "name": "stdout",
     "output_type": "stream",
     "text": [
      "Predicted label for the test sample: no_alzheimers\n"
     ]
    }
   ],
   "source": [
    "# Select one test sample (for example, the first one in the test set)\n",
    "sample = X_test[0].reshape(1, -1)\n",
    "\n",
    "\n",
    "predicted_class = clf.predict(sample)\n",
    "\n",
    "\n",
    "predicted_label = le.inverse_transform(predicted_class)\n",
    "\n",
    "print(\"Predicted label for the test sample:\", predicted_label[0])\n"
   ]
  },
  {
   "cell_type": "code",
   "execution_count": 238,
   "id": "b878237b-d5b6-40b3-bae7-1cadcc7864eb",
   "metadata": {},
   "outputs": [
    {
     "name": "stdout",
     "output_type": "stream",
     "text": [
      "Saved RandomForestClassifier to alzheimers_model.pkl\n"
     ]
    }
   ],
   "source": [
    "joblib.dump(clf, \"alzheimers_model.pkl\")\n",
    "print(\"Saved RandomForestClassifier to alzheimers_model.pkl\")\n"
   ]
  },
  {
   "cell_type": "code",
   "execution_count": null,
   "id": "6dbbccb7-6b5e-43f4-a921-3a02e6f632a4",
   "metadata": {},
   "outputs": [
    {
     "name": "stdout",
     "output_type": "stream",
     "text": [
      "Core ML model saved: AlzheimersPredictor.mlmodel\n"
     ]
    }
   ],
   "source": [
    "import coremltools as ct\n",
    "from coremltools.models.utils import rename_feature  \n",
    "from coremltools.proto import Model_pb2\n",
    "\n",
    "clf_loaded = joblib.load(\"alzheimers_model.pkl\")\n",
    "\n",
    "\n",
    "coreml_model = ct.converters.sklearn.convert(\n",
    "    clf_loaded,\n",
    "    input_features=X.columns.tolist()  #\n",
    ")\n",
    "\n",
    "\n",
    "\n",
    "spec = coreml_model.get_spec()\n",
    "\n",
    "\n",
    "\n",
    "if spec.WhichOneof(\"Type\") == \"pipeline\":\n",
    "\n",
    "    for model_spec in spec.pipeline.models:\n",
    "        if model_spec.HasField(\"treeEnsembleClassifier\"):\n",
    "            model_spec.treeEnsembleClassifier.classLabels.stringClassLabels[:] = [\n",
    "                \"no_alzheimers\",\n",
    "                \"early_alzheimers\",\n",
    "                \"advanced_alzheimers\"\n",
    "            ]\n",
    "elif spec.WhichOneof(\"Type\") == \"treeEnsembleClassifier\":\n",
    "\n",
    "    spec.treeEnsembleClassifier.classLabels.stringClassLabels[:] = [\n",
    "        \"no_alzheimers\",\n",
    "        \"early_alzheimers\",\n",
    "        \"advanced_alzheimers\"\n",
    "    ]\n",
    "\n",
    "\n",
    "rename_feature(spec, spec.description.output[0].name, \"diagnosis_prediction\")\n",
    "rename_feature(spec, spec.description.output[1].name, \"diagnosis_probability\")\n",
    "\n",
    "\n",
    "final_model = ct.models.MLModel(spec)\n",
    "final_model.save(\"AlzheimersPredictor.mlmodel\")\n",
    "print(\"Core ML model saved: AlzheimersPredictor.mlmodel\")"
   ]
  },
  {
   "cell_type": "code",
   "execution_count": null,
   "id": "0f85d798-edae-48b3-bcd5-6cda620f29d0",
   "metadata": {},
   "outputs": [
    {
     "name": "stdout",
     "output_type": "stream",
     "text": [
      "Core ML output: {'diagnosis_probability': {0: 0.0, 1: 2.0, 2: 98.0}, 'diagnosis_prediction': 2}\n",
      "Predicted label (Core ML): 2\n",
      "Probabilities: {0: 0.0, 1: 2.0, 2: 98.0}\n"
     ]
    }
   ],
   "source": [
    "import numpy as np\n",
    "\n",
    "\n",
    "one_test_sample = X_test[0] \n",
    "feature_names = X.columns.tolist()  #\n",
    "\n",
    "\n",
    "input_dict = {}\n",
    "for i, name in enumerate(feature_names):\n",
    "    input_dict[name] = float(one_test_sample[i])\n",
    "\n",
    "# Use the Core ML model to predict for testing \n",
    "coreml_output = final_model.predict(input_dict)\n",
    "\n",
    "\n",
    "print(\"Core ML output:\", coreml_output)\n",
    "print(\"Predicted label (Core ML):\", coreml_output[\"diagnosis_prediction\"])\n",
    "print(\"Probabilities:\", coreml_output[\"diagnosis_probability\"])\n"
   ]
  },
  {
   "cell_type": "code",
   "execution_count": null,
   "id": "bc135c46-1c70-4681-addd-ef470749d0ea",
   "metadata": {},
   "outputs": [
    {
     "name": "stdout",
     "output_type": "stream",
     "text": [
      "LabelEncoder class order: ['alzheimers' 'maybe_alzheimers' 'no_alzheimers']\n"
     ]
    }
   ],
   "source": [
    "le = LabelEncoder()\n",
    "y_encoded = le.fit_transform(y)\n",
    "\n",
    "\n",
    "print(\"LabelEncoder class order:\", le.classes_)\n"
   ]
  },
  {
   "cell_type": "code",
   "execution_count": null,
   "id": "371504e8-313d-4662-b234-bc584d8f187f",
   "metadata": {},
   "outputs": [
    {
     "name": "stdout",
     "output_type": "stream",
     "text": [
      "['no_alzheimers']\n",
      "2\n"
     ]
    }
   ],
   "source": [
    "single_pred_sklearn = clf.predict(sample) \n",
    "print(le.inverse_transform(single_pred_sklearn))\n",
    "coreml_output = final_model.predict(input_dict)\n",
    "print(coreml_output[\"diagnosis_prediction\"])\n",
    "#Figuring out order "
   ]
  },
  {
   "cell_type": "code",
   "execution_count": null,
   "id": "fca595cb-692a-49ce-a938-7271c9a5924f",
   "metadata": {},
   "outputs": [],
   "source": []
  }
 ],
 "metadata": {
  "kernelspec": {
   "display_name": "Python [conda env:base] *",
   "language": "python",
   "name": "conda-base-py"
  },
  "language_info": {
   "codemirror_mode": {
    "name": "ipython",
    "version": 3
   },
   "file_extension": ".py",
   "mimetype": "text/x-python",
   "name": "python",
   "nbconvert_exporter": "python",
   "pygments_lexer": "ipython3",
   "version": "3.12.7"
  }
 },
 "nbformat": 4,
 "nbformat_minor": 5
}
